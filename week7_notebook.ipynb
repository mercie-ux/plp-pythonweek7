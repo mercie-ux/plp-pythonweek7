import pandas as pd
import seaborn as sns
import matplotlib.pyplot as plt
# Load the Iris dataset
df = pd.read_csv('/drive/notebooks/week7/iris.csv')

# Display the first few rows
print(df.head())

# Exploring the structure of the dataset 
print("\nDataset Info:")
print(df.info())

# cleaning the dataset by filling or dropping any missing values 
#by filling
print("\nMissing Values:")
print(df.isnull().sum())
# by dropping
print("\nCleaned Dataset (if applicable):")
print(df.head())

# Display basic statistics of numerical columns
print(df.describe())

# Group by 'species' and calculate the mean for each group
grouped = df.groupby('species').mean()
# Display the result
print(grouped)

#Identify any patterns or interesting findings from your analysis.
# Display the group means
print(grouped)
# Example: Compare petal length across species
print("\nPetal Length Comparison:")
print(grouped['petal_length'])


# Example: Line chart showing petal length trends over 'species'
species_mean = df.groupby('species')['petal_length'].mean()
# Plot
plt.figure(figsize=(8, 5))
species_mean.plot(kind='line', marker='o')
plt.title('Average Petal Length by Species')
plt.xlabel('Species')
plt.ylabel('Average Petal Length (cm)')
plt.grid(True)
plt.xticks(rotation=45)
plt.show()

# Bar chart showing the comparison of a numerical value across categories (e.g., average petal length per species)
# Create the bar chart
plt.figure(figsize=(8, 5))
species_mean.plot(kind='bar')
plt.title('Average Petal Length per Species')
plt.xlabel('Species')
plt.ylabel('Average Petal Length')
plt.xticks(rotation=45)
plt.show()

# Histogram of a numerical column to understand its distribution.
# Histogram of petal length to understand its distribution
plt.figure(figsize=(8, 5))
plt.hist(df['petal_length'], bins=20, color='skyblue', edgecolor='black')
plt.title('Distribution of Petal Length')
plt.xlabel('Petal Length')
plt.ylabel('Frequency')
plt.show()

# Scatter plot to visualize the relationship between two numerical columns (e.g., sepal length vs. petal length).
# Scatter plot to visualize the relationship between sepal length and petal length
plt.figure(figsize=(8, 5))
plt.scatter(df['sepal_length'], df['petal_length'], color='green', alpha=0.5)
plt.title('Sepal Length vs Petal Length')
plt.xlabel('Sepal Length')
plt.ylabel('Petal Length')
plt.show()
